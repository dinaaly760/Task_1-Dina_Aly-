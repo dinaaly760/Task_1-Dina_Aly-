{
 "cells": [
  {
   "cell_type": "code",
   "execution_count": 34,
   "id": "0d6743bf-cc54-4a14-9056-e42c9f6133b5",
   "metadata": {
    "execution": {
     "iopub.execute_input": "2022-03-06T22:44:15.767340Z",
     "iopub.status.busy": "2022-03-06T22:44:15.767061Z",
     "iopub.status.idle": "2022-03-06T22:44:15.770952Z",
     "shell.execute_reply": "2022-03-06T22:44:15.770034Z",
     "shell.execute_reply.started": "2022-03-06T22:44:15.767316Z"
    },
    "tags": []
   },
   "outputs": [],
   "source": [
    "import pandas as pd"
   ]
  },
  {
   "cell_type": "code",
   "execution_count": 35,
   "id": "5d360af4-40ad-451c-b26d-f1b7976d2b19",
   "metadata": {
    "execution": {
     "iopub.execute_input": "2022-03-06T22:44:16.552576Z",
     "iopub.status.busy": "2022-03-06T22:44:16.552134Z",
     "iopub.status.idle": "2022-03-06T22:44:16.555751Z",
     "shell.execute_reply": "2022-03-06T22:44:16.554987Z",
     "shell.execute_reply.started": "2022-03-06T22:44:16.552538Z"
    },
    "tags": []
   },
   "outputs": [],
   "source": [
    "import numpy as np"
   ]
  },
  {
   "cell_type": "code",
   "execution_count": 37,
   "id": "2d3b3ebb-7c05-4bca-a4c4-7f042f9d1973",
   "metadata": {
    "execution": {
     "iopub.execute_input": "2022-03-06T22:44:46.318425Z",
     "iopub.status.busy": "2022-03-06T22:44:46.318144Z",
     "iopub.status.idle": "2022-03-06T22:44:49.417393Z",
     "shell.execute_reply": "2022-03-06T22:44:49.416525Z",
     "shell.execute_reply.started": "2022-03-06T22:44:46.318399Z"
    }
   },
   "outputs": [
    {
     "name": "stdout",
     "output_type": "stream",
     "text": [
      "Collecting seaborn\n",
      "  Downloading seaborn-0.11.2-py3-none-any.whl (292 kB)\n",
      "     |████████████████████████████████| 292 kB 3.6 MB/s            \n",
      "\u001b[?25hRequirement already satisfied: numpy>=1.15 in /opt/conda/envs/saturn/lib/python3.9/site-packages (from seaborn) (1.20.3)\n",
      "Requirement already satisfied: matplotlib>=2.2 in /opt/conda/envs/saturn/lib/python3.9/site-packages (from seaborn) (3.5.1)\n",
      "Requirement already satisfied: pandas>=0.23 in /opt/conda/envs/saturn/lib/python3.9/site-packages (from seaborn) (1.3.5)\n",
      "Requirement already satisfied: scipy>=1.0 in /opt/conda/envs/saturn/lib/python3.9/site-packages (from seaborn) (1.7.3)\n",
      "Requirement already satisfied: fonttools>=4.22.0 in /opt/conda/envs/saturn/lib/python3.9/site-packages (from matplotlib>=2.2->seaborn) (4.28.5)\n",
      "Requirement already satisfied: packaging>=20.0 in /opt/conda/envs/saturn/lib/python3.9/site-packages (from matplotlib>=2.2->seaborn) (21.3)\n",
      "Requirement already satisfied: pyparsing>=2.2.1 in /opt/conda/envs/saturn/lib/python3.9/site-packages (from matplotlib>=2.2->seaborn) (3.0.6)\n",
      "Requirement already satisfied: pillow>=6.2.0 in /opt/conda/envs/saturn/lib/python3.9/site-packages (from matplotlib>=2.2->seaborn) (8.4.0)\n",
      "Requirement already satisfied: python-dateutil>=2.7 in /opt/conda/envs/saturn/lib/python3.9/site-packages (from matplotlib>=2.2->seaborn) (2.8.2)\n",
      "Requirement already satisfied: cycler>=0.10 in /opt/conda/envs/saturn/lib/python3.9/site-packages (from matplotlib>=2.2->seaborn) (0.11.0)\n",
      "Requirement already satisfied: kiwisolver>=1.0.1 in /opt/conda/envs/saturn/lib/python3.9/site-packages (from matplotlib>=2.2->seaborn) (1.3.2)\n",
      "Requirement already satisfied: pytz>=2017.3 in /opt/conda/envs/saturn/lib/python3.9/site-packages (from pandas>=0.23->seaborn) (2021.3)\n",
      "Requirement already satisfied: six>=1.5 in /opt/conda/envs/saturn/lib/python3.9/site-packages (from python-dateutil>=2.7->matplotlib>=2.2->seaborn) (1.16.0)\n",
      "Installing collected packages: seaborn\n",
      "Successfully installed seaborn-0.11.2\n"
     ]
    }
   ],
   "source": [
    "!pip install seaborn"
   ]
  },
  {
   "cell_type": "code",
   "execution_count": 44,
   "id": "5900907f-568b-408e-89e4-9a323659d0fa",
   "metadata": {
    "execution": {
     "iopub.execute_input": "2022-03-06T22:46:00.612110Z",
     "iopub.status.busy": "2022-03-06T22:46:00.611823Z",
     "iopub.status.idle": "2022-03-06T22:46:00.615423Z",
     "shell.execute_reply": "2022-03-06T22:46:00.614664Z",
     "shell.execute_reply.started": "2022-03-06T22:46:00.612084Z"
    },
    "tags": []
   },
   "outputs": [],
   "source": [
    "import seaborn as sns "
   ]
  },
  {
   "cell_type": "code",
   "execution_count": 45,
   "id": "5e84f3de-f19a-4ace-9ab2-016510487145",
   "metadata": {
    "execution": {
     "iopub.execute_input": "2022-03-06T22:46:02.145578Z",
     "iopub.status.busy": "2022-03-06T22:46:02.145116Z",
     "iopub.status.idle": "2022-03-06T22:46:02.148968Z",
     "shell.execute_reply": "2022-03-06T22:46:02.148008Z",
     "shell.execute_reply.started": "2022-03-06T22:46:02.145536Z"
    },
    "tags": []
   },
   "outputs": [],
   "source": [
    "import matplotlib.pyplot as plt"
   ]
  },
  {
   "cell_type": "code",
   "execution_count": 46,
   "id": "c515f6d6-1204-491d-89c3-38bf30740ba3",
   "metadata": {
    "execution": {
     "iopub.execute_input": "2022-03-06T22:46:02.796896Z",
     "iopub.status.busy": "2022-03-06T22:46:02.796608Z",
     "iopub.status.idle": "2022-03-06T22:46:02.806461Z",
     "shell.execute_reply": "2022-03-06T22:46:02.805642Z",
     "shell.execute_reply.started": "2022-03-06T22:46:02.796871Z"
    },
    "tags": []
   },
   "outputs": [],
   "source": [
    "Data = pd.read_csv(\"student_scores.csv\")"
   ]
  },
  {
   "cell_type": "code",
   "execution_count": 47,
   "id": "a2b1cf0b-6484-4743-a946-8c06f45baee7",
   "metadata": {
    "execution": {
     "iopub.execute_input": "2022-03-06T22:46:03.458390Z",
     "iopub.status.busy": "2022-03-06T22:46:03.458091Z",
     "iopub.status.idle": "2022-03-06T22:46:03.464187Z",
     "shell.execute_reply": "2022-03-06T22:46:03.463543Z",
     "shell.execute_reply.started": "2022-03-06T22:46:03.458364Z"
    },
    "tags": []
   },
   "outputs": [
    {
     "name": "stdout",
     "output_type": "stream",
     "text": [
      "   Hours  Scores\n",
      "0    2.5      21\n",
      "1    5.1      47\n",
      "2    3.2      27\n",
      "3    8.5      75\n",
      "4    3.5      30\n"
     ]
    }
   ],
   "source": [
    "print(Data.head())"
   ]
  },
  {
   "cell_type": "code",
   "execution_count": 48,
   "id": "5aaca4c1-c69d-4c49-8ebc-17ae63f2d534",
   "metadata": {
    "execution": {
     "iopub.execute_input": "2022-03-06T22:46:04.262347Z",
     "iopub.status.busy": "2022-03-06T22:46:04.261885Z",
     "iopub.status.idle": "2022-03-06T22:46:04.268122Z",
     "shell.execute_reply": "2022-03-06T22:46:04.267389Z",
     "shell.execute_reply.started": "2022-03-06T22:46:04.262317Z"
    },
    "tags": []
   },
   "outputs": [
    {
     "name": "stdout",
     "output_type": "stream",
     "text": [
      "<bound method DataFrame.info of     Hours  Scores\n",
      "0     2.5      21\n",
      "1     5.1      47\n",
      "2     3.2      27\n",
      "3     8.5      75\n",
      "4     3.5      30\n",
      "5     1.5      20\n",
      "6     9.2      88\n",
      "7     5.5      60\n",
      "8     8.3      81\n",
      "9     2.7      25\n",
      "10    7.7      85\n",
      "11    5.9      62\n",
      "12    4.5      41\n",
      "13    3.3      42\n",
      "14    1.1      17\n",
      "15    8.9      95\n",
      "16    2.5      30\n",
      "17    1.9      24\n",
      "18    6.1      67\n",
      "19    7.4      69\n",
      "20    2.7      30\n",
      "21    4.8      54\n",
      "22    3.8      35\n",
      "23    6.9      76\n",
      "24    7.8      86>\n"
     ]
    }
   ],
   "source": [
    "print(Data.info)"
   ]
  },
  {
   "cell_type": "code",
   "execution_count": 49,
   "id": "dbe247a7-a205-438d-b62b-7f32b3dab7d0",
   "metadata": {
    "execution": {
     "iopub.execute_input": "2022-03-06T22:46:04.990281Z",
     "iopub.status.busy": "2022-03-06T22:46:04.989992Z",
     "iopub.status.idle": "2022-03-06T22:46:05.006109Z",
     "shell.execute_reply": "2022-03-06T22:46:05.005423Z",
     "shell.execute_reply.started": "2022-03-06T22:46:04.990255Z"
    },
    "tags": []
   },
   "outputs": [
    {
     "data": {
      "text/html": [
       "<div>\n",
       "<style scoped>\n",
       "    .dataframe tbody tr th:only-of-type {\n",
       "        vertical-align: middle;\n",
       "    }\n",
       "\n",
       "    .dataframe tbody tr th {\n",
       "        vertical-align: top;\n",
       "    }\n",
       "\n",
       "    .dataframe thead th {\n",
       "        text-align: right;\n",
       "    }\n",
       "</style>\n",
       "<table border=\"1\" class=\"dataframe\">\n",
       "  <thead>\n",
       "    <tr style=\"text-align: right;\">\n",
       "      <th></th>\n",
       "      <th>Hours</th>\n",
       "      <th>Scores</th>\n",
       "    </tr>\n",
       "  </thead>\n",
       "  <tbody>\n",
       "    <tr>\n",
       "      <th>count</th>\n",
       "      <td>25.000000</td>\n",
       "      <td>25.000000</td>\n",
       "    </tr>\n",
       "    <tr>\n",
       "      <th>mean</th>\n",
       "      <td>5.012000</td>\n",
       "      <td>51.480000</td>\n",
       "    </tr>\n",
       "    <tr>\n",
       "      <th>std</th>\n",
       "      <td>2.525094</td>\n",
       "      <td>25.286887</td>\n",
       "    </tr>\n",
       "    <tr>\n",
       "      <th>min</th>\n",
       "      <td>1.100000</td>\n",
       "      <td>17.000000</td>\n",
       "    </tr>\n",
       "    <tr>\n",
       "      <th>25%</th>\n",
       "      <td>2.700000</td>\n",
       "      <td>30.000000</td>\n",
       "    </tr>\n",
       "    <tr>\n",
       "      <th>50%</th>\n",
       "      <td>4.800000</td>\n",
       "      <td>47.000000</td>\n",
       "    </tr>\n",
       "    <tr>\n",
       "      <th>75%</th>\n",
       "      <td>7.400000</td>\n",
       "      <td>75.000000</td>\n",
       "    </tr>\n",
       "    <tr>\n",
       "      <th>max</th>\n",
       "      <td>9.200000</td>\n",
       "      <td>95.000000</td>\n",
       "    </tr>\n",
       "  </tbody>\n",
       "</table>\n",
       "</div>"
      ],
      "text/plain": [
       "           Hours     Scores\n",
       "count  25.000000  25.000000\n",
       "mean    5.012000  51.480000\n",
       "std     2.525094  25.286887\n",
       "min     1.100000  17.000000\n",
       "25%     2.700000  30.000000\n",
       "50%     4.800000  47.000000\n",
       "75%     7.400000  75.000000\n",
       "max     9.200000  95.000000"
      ]
     },
     "execution_count": 49,
     "metadata": {},
     "output_type": "execute_result"
    }
   ],
   "source": [
    "Data.describe()"
   ]
  },
  {
   "cell_type": "markdown",
   "id": "a14f4a1c-0255-484f-ac13-82dccf088bbb",
   "metadata": {},
   "source": [
    " My explanation : the highest score was 95% and the lowest score was 17% and , the highest number of hours was (max = 9.2 ) and the min. number of hours was1.1  "
   ]
  },
  {
   "cell_type": "markdown",
   "id": "929e6f36-53b8-406b-a6ff-7c8093c8247f",
   "metadata": {},
   "source": [
    "the corrlations between the hours & scores \n"
   ]
  },
  {
   "cell_type": "code",
   "execution_count": 113,
   "id": "25ad59f4-d338-4131-91e7-5223e15b705a",
   "metadata": {
    "execution": {
     "iopub.execute_input": "2022-03-07T02:05:55.695823Z",
     "iopub.status.busy": "2022-03-07T02:05:55.695528Z",
     "iopub.status.idle": "2022-03-07T02:05:55.837333Z",
     "shell.execute_reply": "2022-03-07T02:05:55.836097Z",
     "shell.execute_reply.started": "2022-03-07T02:05:55.695796Z"
    },
    "tags": []
   },
   "outputs": [
    {
     "data": {
      "image/png": "[encoded data removed]",
      "text/plain": [
       "<Figure size 432x288 with 1 Axes>"
      ]
     },
     "metadata": {
      "needs_background": "light"
     },
     "output_type": "display_data"
    }
   ],
   "source": [
    "plt.scatter(x=\"Hours\" , y = \"Scores\", data = Data )\n",
    "plt.xlabel(\"Hours\" , fontsize=22);\n",
    "plt.ylabel(\"Scores\" , fontsize=22);\n",
    "plt.title(\"the relation between scores and Hours \" , fontsize=25)\n",
    "plt.show()"
   ]
  },
  {
   "cell_type": "code",
   "execution_count": 72,
   "id": "a0e06f08-db79-49aa-accc-cc74cb3fc58d",
   "metadata": {
    "execution": {
     "iopub.execute_input": "2022-03-06T23:33:14.697340Z",
     "iopub.status.busy": "2022-03-06T23:33:14.695037Z",
     "iopub.status.idle": "2022-03-06T23:33:14.708606Z",
     "shell.execute_reply": "2022-03-06T23:33:14.707904Z",
     "shell.execute_reply.started": "2022-03-06T23:33:14.697287Z"
    },
    "tags": []
   },
   "outputs": [
    {
     "data": {
      "text/plain": [
       "0.9761906560220887"
      ]
     },
     "execution_count": 72,
     "metadata": {},
     "output_type": "execute_result"
    }
   ],
   "source": [
    "Data.Scores.corr(Data.Hours)"
   ]
  },
  {
   "cell_type": "code",
   "execution_count": 81,
   "id": "b2bf6660-9b6f-41b0-9c4c-d1f95b6f8e90",
   "metadata": {
    "execution": {
     "iopub.execute_input": "2022-03-06T23:48:18.503195Z",
     "iopub.status.busy": "2022-03-06T23:48:18.502896Z",
     "iopub.status.idle": "2022-03-06T23:48:18.782268Z",
     "shell.execute_reply": "2022-03-06T23:48:18.781554Z",
     "shell.execute_reply.started": "2022-03-06T23:48:18.503169Z"
    }
   },
   "outputs": [
    {
     "data": {
      "image/png": "[encoded data removed]",
      "text/plain": [
       "<Figure size 432x288 with 1 Axes>"
      ]
     },
     "metadata": {
      "needs_background": "light"
     },
     "output_type": "display_data"
    }
   ],
   "source": [
    "sns.regplot(x= \"Hours\" ,y =\"Scores\" ,data = Data);"
   ]
  },
  {
   "cell_type": "code",
   "execution_count": 87,
   "id": "5c354a86-a0bf-4e68-9c1e-265e151e41c1",
   "metadata": {
    "execution": {
     "iopub.execute_input": "2022-03-07T00:04:12.411152Z",
     "iopub.status.busy": "2022-03-07T00:04:12.410860Z",
     "iopub.status.idle": "2022-03-07T00:04:12.854948Z",
     "shell.execute_reply": "2022-03-07T00:04:12.854246Z",
     "shell.execute_reply.started": "2022-03-07T00:04:12.411125Z"
    },
    "tags": []
   },
   "outputs": [
    {
     "data": {
      "image/png": "[encoded data removed]",
      "text/plain": [
       "<Figure size 360x360 with 1 Axes>"
      ]
     },
     "metadata": {
      "needs_background": "light"
     },
     "output_type": "display_data"
    }
   ],
   "source": [
    "sns.catplot(x=\"Hours\",y=\"Scores\",kind= \"swarm\" ,data=Data );"
   ]
  },
  {
   "cell_type": "code",
   "execution_count": 90,
   "id": "573f691c-7c2f-420f-8411-e658a98b116c",
   "metadata": {
    "execution": {
     "iopub.execute_input": "2022-03-07T00:16:46.338558Z",
     "iopub.status.busy": "2022-03-07T00:16:46.338216Z",
     "iopub.status.idle": "2022-03-07T00:16:49.610278Z",
     "shell.execute_reply": "2022-03-07T00:16:49.609550Z",
     "shell.execute_reply.started": "2022-03-07T00:16:46.338527Z"
    },
    "tags": []
   },
   "outputs": [
    {
     "name": "stdout",
     "output_type": "stream",
     "text": [
      "Requirement already satisfied: scikit-learn in /opt/conda/envs/saturn/lib/python3.9/site-packages (1.0.2)\n",
      "Requirement already satisfied: numpy>=1.14.6 in /opt/conda/envs/saturn/lib/python3.9/site-packages (from scikit-learn) (1.20.3)\n",
      "Requirement already satisfied: threadpoolctl>=2.0.0 in /opt/conda/envs/saturn/lib/python3.9/site-packages (from scikit-learn) (3.0.0)\n",
      "Requirement already satisfied: joblib>=0.11 in /opt/conda/envs/saturn/lib/python3.9/site-packages (from scikit-learn) (1.1.0)\n",
      "Requirement already satisfied: scipy>=1.1.0 in /opt/conda/envs/saturn/lib/python3.9/site-packages (from scikit-learn) (1.7.3)\n"
     ]
    }
   ],
   "source": [
    "!pip install -U scikit-learn "
   ]
  },
  {
   "cell_type": "code",
   "execution_count": 93,
   "id": "5f96036f-5695-4c4d-829f-fc0bec096192",
   "metadata": {
    "execution": {
     "iopub.execute_input": "2022-03-07T00:23:44.305811Z",
     "iopub.status.busy": "2022-03-07T00:23:44.305513Z",
     "iopub.status.idle": "2022-03-07T00:23:46.460310Z",
     "shell.execute_reply": "2022-03-07T00:23:46.459587Z",
     "shell.execute_reply.started": "2022-03-07T00:23:44.305786Z"
    }
   },
   "outputs": [
    {
     "name": "stdout",
     "output_type": "stream",
     "text": [
      "Name: scikit-learn\n",
      "Version: 1.0.2\n",
      "Summary: A set of python modules for machine learning and data mining\n",
      "Home-page: http://scikit-learn.org\n",
      "Author: \n",
      "Author-email: \n",
      "License: new BSD\n",
      "Location: /opt/conda/envs/saturn/lib/python3.9/site-packages\n",
      "Requires: joblib, numpy, scipy, threadpoolctl\n",
      "Required-by: dask-glm, dask-ml\n"
     ]
    }
   ],
   "source": [
    "!python -m pip show scikit-learn "
   ]
  },
  {
   "cell_type": "code",
   "execution_count": 94,
   "id": "0fa074cc-fb4c-4a53-b5ac-102f5b2b7752",
   "metadata": {
    "execution": {
     "iopub.execute_input": "2022-03-07T00:23:46.513965Z",
     "iopub.status.busy": "2022-03-07T00:23:46.513627Z",
     "iopub.status.idle": "2022-03-07T00:23:47.665028Z",
     "shell.execute_reply": "2022-03-07T00:23:47.664309Z",
     "shell.execute_reply.started": "2022-03-07T00:23:46.513935Z"
    }
   },
   "outputs": [
    {
     "name": "stdout",
     "output_type": "stream",
     "text": [
      "\n",
      "Usage:   \n",
      "  pip <command> [options]\n",
      "\n",
      "no such option: -m\n"
     ]
    }
   ],
   "source": [
    "!pip -m python  freeze "
   ]
  },
  {
   "cell_type": "code",
   "execution_count": 99,
   "id": "7e95f0cb-e5ee-49a6-8cdf-594a90cfd1bd",
   "metadata": {
    "execution": {
     "iopub.execute_input": "2022-03-07T00:46:54.376190Z",
     "iopub.status.busy": "2022-03-07T00:46:54.375893Z",
     "iopub.status.idle": "2022-03-07T00:46:56.302195Z",
     "shell.execute_reply": "2022-03-07T00:46:56.301276Z",
     "shell.execute_reply.started": "2022-03-07T00:46:54.376157Z"
    },
    "tags": []
   },
   "outputs": [
    {
     "name": "stdout",
     "output_type": "stream",
     "text": [
      "\n",
      "System:\n",
      "    python: 3.9.9 | packaged by conda-forge | (main, Dec 20 2021, 02:41:03)  [GCC 9.4.0]\n",
      "executable: /srv/conda/envs/saturn/bin/python\n",
      "   machine: Linux-5.4.117-58.216.amzn2.x86_64-x86_64-with-glibc2.31\n",
      "\n",
      "Python dependencies:\n",
      "          pip: 21.3.1\n",
      "   setuptools: 59.7.0\n",
      "      sklearn: 1.0.2\n",
      "        numpy: 1.20.3\n",
      "        scipy: 1.7.3\n",
      "       Cython: None\n",
      "       pandas: 1.3.5\n",
      "   matplotlib: 3.5.1\n",
      "       joblib: 1.1.0\n",
      "threadpoolctl: 3.0.0\n",
      "\n",
      "Built with OpenMP: True\n"
     ]
    }
   ],
   "source": [
    "!python -c \"import sklearn ; sklearn.show_versions()\""
   ]
  },
  {
   "cell_type": "code",
   "execution_count": 101,
   "id": "0cdcb5be-2325-444f-b360-dcc5522d2c6b",
   "metadata": {
    "execution": {
     "iopub.execute_input": "2022-03-07T00:53:28.892424Z",
     "iopub.status.busy": "2022-03-07T00:53:28.892134Z",
     "iopub.status.idle": "2022-03-07T00:53:28.895507Z",
     "shell.execute_reply": "2022-03-07T00:53:28.894805Z",
     "shell.execute_reply.started": "2022-03-07T00:53:28.892398Z"
    },
    "tags": []
   },
   "outputs": [],
   "source": [
    "from sklearn.linear_model import LinearRegression "
   ]
  },
  {
   "cell_type": "code",
   "execution_count": 102,
   "id": "b8224326-aa42-4996-bed5-a3b8045c2db1",
   "metadata": {
    "execution": {
     "iopub.execute_input": "2022-03-07T00:55:50.244077Z",
     "iopub.status.busy": "2022-03-07T00:55:50.243778Z",
     "iopub.status.idle": "2022-03-07T00:55:50.247464Z",
     "shell.execute_reply": "2022-03-07T00:55:50.246705Z",
     "shell.execute_reply.started": "2022-03-07T00:55:50.244052Z"
    }
   },
   "outputs": [],
   "source": [
    "from sklearn.model_selection import train_test_split"
   ]
  },
  {
   "cell_type": "code",
   "execution_count": 103,
   "id": "79d305b7-b85d-4f8f-ba20-b1d02566357d",
   "metadata": {
    "execution": {
     "iopub.execute_input": "2022-03-07T00:56:31.166315Z",
     "iopub.status.busy": "2022-03-07T00:56:31.166027Z",
     "iopub.status.idle": "2022-03-07T00:56:31.169732Z",
     "shell.execute_reply": "2022-03-07T00:56:31.168990Z",
     "shell.execute_reply.started": "2022-03-07T00:56:31.166290Z"
    }
   },
   "outputs": [],
   "source": [
    "from sklearn import  metrics "
   ]
  },
  {
   "cell_type": "markdown",
   "id": "f9766e66-b81b-44c5-a377-b44ddb6a3d0b",
   "metadata": {},
   "source": [
    "the training of model "
   ]
  },
  {
   "cell_type": "code",
   "execution_count": 106,
   "id": "cdc53545-1c5c-48c1-a298-8ed84843619e",
   "metadata": {
    "execution": {
     "iopub.execute_input": "2022-03-07T01:42:44.011028Z",
     "iopub.status.busy": "2022-03-07T01:42:44.010267Z",
     "iopub.status.idle": "2022-03-07T01:42:44.019310Z",
     "shell.execute_reply": "2022-03-07T01:42:44.018561Z",
     "shell.execute_reply.started": "2022-03-07T01:42:44.010993Z"
    }
   },
   "outputs": [],
   "source": [
    "A = Data[['Hours']]"
   ]
  },
  {
   "cell_type": "code",
   "execution_count": 107,
   "id": "4b3c2966-0894-4980-82cf-e53d4df6a1e7",
   "metadata": {
    "execution": {
     "iopub.execute_input": "2022-03-07T01:42:44.923561Z",
     "iopub.status.busy": "2022-03-07T01:42:44.922944Z",
     "iopub.status.idle": "2022-03-07T01:42:44.927378Z",
     "shell.execute_reply": "2022-03-07T01:42:44.926706Z",
     "shell.execute_reply.started": "2022-03-07T01:42:44.923529Z"
    }
   },
   "outputs": [],
   "source": [
    "B = Data [['Scores']]"
   ]
  },
  {
   "cell_type": "code",
   "execution_count": 127,
   "id": "e793c81b-a5b0-48f5-aa45-781ce801cb25",
   "metadata": {
    "execution": {
     "iopub.execute_input": "2022-03-07T02:30:58.587624Z",
     "iopub.status.busy": "2022-03-07T02:30:58.587330Z",
     "iopub.status.idle": "2022-03-07T02:30:58.594473Z",
     "shell.execute_reply": "2022-03-07T02:30:58.593653Z",
     "shell.execute_reply.started": "2022-03-07T02:30:58.587590Z"
    },
    "tags": []
   },
   "outputs": [],
   "source": [
    "A_train , A_test , B_test , B_train = train_test_split(A , B ,test_size=0.2 ,random_state = 0 )"
   ]
  },
  {
   "cell_type": "code",
   "execution_count": 128,
   "id": "4043a685-9f51-4003-aefe-dd7dd9547631",
   "metadata": {
    "execution": {
     "iopub.execute_input": "2022-03-07T02:30:59.590608Z",
     "iopub.status.busy": "2022-03-07T02:30:59.590313Z",
     "iopub.status.idle": "2022-03-07T02:30:59.596319Z",
     "shell.execute_reply": "2022-03-07T02:30:59.595601Z",
     "shell.execute_reply.started": "2022-03-07T02:30:59.590582Z"
    },
    "tags": []
   },
   "outputs": [],
   "source": [
    "Model = LinearRegression()"
   ]
  },
  {
   "cell_type": "code",
   "execution_count": 129,
   "id": "120d4771-6d1a-4204-a1c2-7bfe504098b9",
   "metadata": {
    "execution": {
     "iopub.execute_input": "2022-03-07T02:31:00.409347Z",
     "iopub.status.busy": "2022-03-07T02:31:00.409044Z",
     "iopub.status.idle": "2022-03-07T02:31:00.419129Z",
     "shell.execute_reply": "2022-03-07T02:31:00.418442Z",
     "shell.execute_reply.started": "2022-03-07T02:31:00.409321Z"
    },
    "tags": []
   },
   "outputs": [
    {
     "data": {
      "text/plain": [
       "LinearRegression()"
      ]
     },
     "execution_count": 129,
     "metadata": {},
     "output_type": "execute_result"
    }
   ],
   "source": [
    "Model.fit(A,B)"
   ]
  },
  {
   "cell_type": "code",
   "execution_count": 130,
   "id": "d15020ed-d477-4263-89e1-63aa8639238b",
   "metadata": {
    "execution": {
     "iopub.execute_input": "2022-03-07T02:31:01.467595Z",
     "iopub.status.busy": "2022-03-07T02:31:01.467250Z",
     "iopub.status.idle": "2022-03-07T02:31:01.476026Z",
     "shell.execute_reply": "2022-03-07T02:31:01.475347Z",
     "shell.execute_reply.started": "2022-03-07T02:31:01.467568Z"
    },
    "tags": []
   },
   "outputs": [
    {
     "data": {
      "text/plain": [
       "(array([[9.77580339]]), array([2.48367341]))"
      ]
     },
     "execution_count": 130,
     "metadata": {},
     "output_type": "execute_result"
    }
   ],
   "source": [
    "Model.coef_ , Model.intercept_"
   ]
  },
  {
   "cell_type": "code",
   "execution_count": 131,
   "id": "a1754155-156d-46d0-aa33-5fe8896392c0",
   "metadata": {
    "execution": {
     "iopub.execute_input": "2022-03-07T02:31:02.524254Z",
     "iopub.status.busy": "2022-03-07T02:31:02.523946Z",
     "iopub.status.idle": "2022-03-07T02:31:02.528598Z",
     "shell.execute_reply": "2022-03-07T02:31:02.527903Z",
     "shell.execute_reply.started": "2022-03-07T02:31:02.524229Z"
    },
    "tags": []
   },
   "outputs": [],
   "source": [
    "the_line = Model.coef_*A+Model.intercept_"
   ]
  },
  {
   "cell_type": "code",
   "execution_count": 132,
   "id": "26344c9e-6158-4617-bffd-e6a02c597fd0",
   "metadata": {
    "execution": {
     "iopub.execute_input": "2022-03-07T02:31:03.497222Z",
     "iopub.status.busy": "2022-03-07T02:31:03.496761Z",
     "iopub.status.idle": "2022-03-07T02:31:03.635885Z",
     "shell.execute_reply": "2022-03-07T02:31:03.635270Z",
     "shell.execute_reply.started": "2022-03-07T02:31:03.497193Z"
    },
    "tags": []
   },
   "outputs": [
    {
     "data": {
      "image/png": "[encoded data removed]",
      "text/plain": [
       "<Figure size 432x288 with 1 Axes>"
      ]
     },
     "metadata": {
      "needs_background": "light"
     },
     "output_type": "display_data"
    }
   ],
   "source": [
    "plt.ylabel(\"Scores\" , fontsize = 18)\n",
    "plt.xlabel(\"Hours\" ,fontsize = 18)\n",
    "plt.scatter(A,B)\n",
    "plt.plot(A , the_line);\n",
    "plt.show()"
   ]
  },
  {
   "cell_type": "raw",
   "id": "9fe4a534-e695-4cbb-b22a-1ac604acad0f",
   "metadata": {},
   "source": [
    "making our predictions :"
   ]
  },
  {
   "cell_type": "code",
   "execution_count": 133,
   "id": "8b08b8da-5ca7-4a07-9c35-b8e2f0d4bcea",
   "metadata": {
    "execution": {
     "iopub.execute_input": "2022-03-07T02:31:07.400504Z",
     "iopub.status.busy": "2022-03-07T02:31:07.400162Z",
     "iopub.status.idle": "2022-03-07T02:31:07.405284Z",
     "shell.execute_reply": "2022-03-07T02:31:07.404505Z",
     "shell.execute_reply.started": "2022-03-07T02:31:07.400477Z"
    },
    "tags": []
   },
   "outputs": [],
   "source": [
    "my_predictions = Model.predict(A_test)"
   ]
  },
  {
   "cell_type": "code",
   "execution_count": 134,
   "id": "1de0f4c5-2b49-4eab-85c3-c29a0572dcfc",
   "metadata": {
    "execution": {
     "iopub.execute_input": "2022-03-07T02:31:08.437339Z",
     "iopub.status.busy": "2022-03-07T02:31:08.436945Z",
     "iopub.status.idle": "2022-03-07T02:31:08.441591Z",
     "shell.execute_reply": "2022-03-07T02:31:08.440878Z",
     "shell.execute_reply.started": "2022-03-07T02:31:08.437312Z"
    },
    "tags": []
   },
   "outputs": [
    {
     "name": "stdout",
     "output_type": "stream",
     "text": [
      "[[17.14737849]\n",
      " [33.76624426]\n",
      " [74.8246185 ]\n",
      " [26.92318188]\n",
      " [60.16091341]]\n"
     ]
    }
   ],
   "source": [
    "print(my_predictions)"
   ]
  },
  {
   "cell_type": "code",
   "execution_count": 135,
   "id": "b954a278-f315-46b3-b45e-d33b9581578f",
   "metadata": {
    "execution": {
     "iopub.execute_input": "2022-03-07T02:31:09.488499Z",
     "iopub.status.busy": "2022-03-07T02:31:09.488184Z",
     "iopub.status.idle": "2022-03-07T02:31:09.497890Z",
     "shell.execute_reply": "2022-03-07T02:31:09.497191Z",
     "shell.execute_reply.started": "2022-03-07T02:31:09.488473Z"
    },
    "tags": []
   },
   "outputs": [
    {
     "data": {
      "text/plain": [
       "(    Scores\n",
       " 22      35\n",
       " 17      24\n",
       " 24      86\n",
       " 23      76\n",
       " 14      17\n",
       " 1       47\n",
       " 10      85\n",
       " 13      42\n",
       " 8       81\n",
       " 6       88\n",
       " 18      67\n",
       " 4       30\n",
       " 9       25\n",
       " 7       60\n",
       " 20      30\n",
       " 3       75\n",
       " 0       21\n",
       " 21      54\n",
       " 15      95\n",
       " 12      41,\n",
       " array([[17.14737849],\n",
       "        [33.76624426],\n",
       "        [74.8246185 ],\n",
       "        [26.92318188],\n",
       "        [60.16091341]]))"
      ]
     },
     "execution_count": 135,
     "metadata": {},
     "output_type": "execute_result"
    }
   ],
   "source": [
    "(B_test, my_predictions)"
   ]
  },
  {
   "cell_type": "code",
   "execution_count": 137,
   "id": "c245fdac-6d8b-4b37-9b9e-8c7fc5c9306f",
   "metadata": {
    "execution": {
     "iopub.execute_input": "2022-03-07T02:35:48.768350Z",
     "iopub.status.busy": "2022-03-07T02:35:48.768052Z",
     "iopub.status.idle": "2022-03-07T02:35:48.773342Z",
     "shell.execute_reply": "2022-03-07T02:35:48.772667Z",
     "shell.execute_reply.started": "2022-03-07T02:35:48.768323Z"
    },
    "tags": []
   },
   "outputs": [
    {
     "name": "stdout",
     "output_type": "stream",
     "text": [
      "[[92.90985477]]\n"
     ]
    },
    {
     "name": "stderr",
     "output_type": "stream",
     "text": [
      "/srv/conda/envs/saturn/lib/python3.9/site-packages/sklearn/base.py:450: UserWarning: X does not have valid feature names, but LinearRegression was fitted with feature names\n",
      "  warnings.warn(\n"
     ]
    }
   ],
   "source": [
    "predicting_the_result = Model.predict(np.array([[9.25]]))\n",
    "print(predicting_the_result)"
   ]
  },
  {
   "cell_type": "markdown",
   "id": "98e9a2e7-12be-4f57-8568-eaca7582868a",
   "metadata": {},
   "source": [
    "the Answer of Question : \n",
    "    the student can get 92.90% after studeied for 9.25 hr "
   ]
  },
  {
   "cell_type": "code",
   "execution_count": null,
   "id": "9ac7fd05-ac2f-4de3-86d4-277f5a475d81",
   "metadata": {},
   "outputs": [],
   "source": []
  },
  {
   "cell_type": "code",
   "execution_count": null,
   "id": "b3ba1996-36af-4821-80da-a95e4352acb8",
   "metadata": {},
   "outputs": [],
   "source": []
  }
 ],
 "metadata": {
  "kernelspec": {
   "display_name": "saturn (Python 3)",
   "language": "python",
   "name": "python3"
  },
  "language_info": {
   "codemirror_mode": {
    "name": "ipython",
    "version": 3
   },
   "file_extension": ".py",
   "mimetype": "text/x-python",
   "name": "python",
   "nbconvert_exporter": "python",
   "pygments_lexer": "ipython3",
   "version": "3.9.9"
  }
 },
 "nbformat": 4,
 "nbformat_minor": 5
}
